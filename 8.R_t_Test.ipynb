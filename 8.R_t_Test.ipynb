{
  "cells": [
    {
      "metadata": {
        "trusted": true
      },
      "cell_type": "code",
      "source": "url <- 'https://docs.google.com/spreadsheets/d/e/2PACX-1vTaptSvrA7xwPVr-v6IvYdPIwNpsQI3LqpL_DQFW3mCmfbxSBuCK4d_NoFkD7msjeVZg8stda-Q_UzE/pub?gid=234345710&single=true&output=csv'\ndf <- read.csv(url, header=TRUE)  #　header=TRUE　は第１行が列の変数名\nhead(df)\nprint(df)",
      "execution_count": 2,
      "outputs": [
        {
          "output_type": "display_data",
          "data": {
            "text/plain": "  年月 江戸川臨海.jan.ave 東京.jan.ave 青梅.jan.ave 八王子.jan.ave 練馬.jan.ave\n1 1977 3.1                3.4          0.7          0.9            2.2         \n2 1978 5.4                5.6          2.6          2.9            4.0         \n3 1979 5.8                6.6          3.7          3.2            4.6         \n4 1980 5.2                5.6          2.6          3.0            3.8         \n5 1981 3.9                4.4          1.1          1.0            2.7         \n6 1982 5.5                5.8          2.5          2.9            4.6         \n  府中.jan.ave 江戸川臨海.aug.ave 東京.aug.ave 青梅.aug.ave 八王子.aug.ave\n1 1.8          24.1               25.0         22.8         23.7          \n2 3.7          28.1               28.9         26.6         27.4          \n3 4.4          26.3               27.4         24.9         25.9          \n4 3.7          22.3               23.4         21.7         22.4          \n5 2.2          25.5               26.2         24.0         24.9          \n6 4.1          25.9               27.1         24.6         25.4          \n  練馬.aug.ave 府中.aug.ave\n1 24.4         23.8        \n2 28.2         27.6        \n3 26.4         26.1        \n4 22.7         22.5        \n5 26.1         25.1        \n6 26.6         25.7        ",
            "text/latex": "A data.frame: 6 x 13\n\\begin{tabular}{r|lllllllllllll}\n 年月 & 江戸川臨海.jan.ave & 東京.jan.ave & 青梅.jan.ave & 八王子.jan.ave & 練馬.jan.ave & 府中.jan.ave & 江戸川臨海.aug.ave & 東京.aug.ave & 青梅.aug.ave & 八王子.aug.ave & 練馬.aug.ave & 府中.aug.ave\\\\\n <int> & <dbl> & <dbl> & <dbl> & <dbl> & <dbl> & <dbl> & <dbl> & <dbl> & <dbl> & <dbl> & <dbl> & <dbl>\\\\\n\\hline\n\t 1977 & 3.1 & 3.4 & 0.7 & 0.9 & 2.2 & 1.8 & 24.1 & 25.0 & 22.8 & 23.7 & 24.4 & 23.8\\\\\n\t 1978 & 5.4 & 5.6 & 2.6 & 2.9 & 4.0 & 3.7 & 28.1 & 28.9 & 26.6 & 27.4 & 28.2 & 27.6\\\\\n\t 1979 & 5.8 & 6.6 & 3.7 & 3.2 & 4.6 & 4.4 & 26.3 & 27.4 & 24.9 & 25.9 & 26.4 & 26.1\\\\\n\t 1980 & 5.2 & 5.6 & 2.6 & 3.0 & 3.8 & 3.7 & 22.3 & 23.4 & 21.7 & 22.4 & 22.7 & 22.5\\\\\n\t 1981 & 3.9 & 4.4 & 1.1 & 1.0 & 2.7 & 2.2 & 25.5 & 26.2 & 24.0 & 24.9 & 26.1 & 25.1\\\\\n\t 1982 & 5.5 & 5.8 & 2.5 & 2.9 & 4.6 & 4.1 & 25.9 & 27.1 & 24.6 & 25.4 & 26.6 & 25.7\\\\\n\\end{tabular}\n",
            "text/markdown": "\nA data.frame: 6 x 13\n\n| 年月 &lt;int&gt; | 江戸川臨海.jan.ave &lt;dbl&gt; | 東京.jan.ave &lt;dbl&gt; | 青梅.jan.ave &lt;dbl&gt; | 八王子.jan.ave &lt;dbl&gt; | 練馬.jan.ave &lt;dbl&gt; | 府中.jan.ave &lt;dbl&gt; | 江戸川臨海.aug.ave &lt;dbl&gt; | 東京.aug.ave &lt;dbl&gt; | 青梅.aug.ave &lt;dbl&gt; | 八王子.aug.ave &lt;dbl&gt; | 練馬.aug.ave &lt;dbl&gt; | 府中.aug.ave &lt;dbl&gt; |\n|---|---|---|---|---|---|---|---|---|---|---|---|---|\n| 1977 | 3.1 | 3.4 | 0.7 | 0.9 | 2.2 | 1.8 | 24.1 | 25.0 | 22.8 | 23.7 | 24.4 | 23.8 |\n| 1978 | 5.4 | 5.6 | 2.6 | 2.9 | 4.0 | 3.7 | 28.1 | 28.9 | 26.6 | 27.4 | 28.2 | 27.6 |\n| 1979 | 5.8 | 6.6 | 3.7 | 3.2 | 4.6 | 4.4 | 26.3 | 27.4 | 24.9 | 25.9 | 26.4 | 26.1 |\n| 1980 | 5.2 | 5.6 | 2.6 | 3.0 | 3.8 | 3.7 | 22.3 | 23.4 | 21.7 | 22.4 | 22.7 | 22.5 |\n| 1981 | 3.9 | 4.4 | 1.1 | 1.0 | 2.7 | 2.2 | 25.5 | 26.2 | 24.0 | 24.9 | 26.1 | 25.1 |\n| 1982 | 5.5 | 5.8 | 2.5 | 2.9 | 4.6 | 4.1 | 25.9 | 27.1 | 24.6 | 25.4 | 26.6 | 25.7 |\n\n",
            "text/html": "<table>\n<caption>A data.frame: 6 x 13</caption>\n<thead>\n\t<tr><th scope=col>年月</th><th scope=col>江戸川臨海.jan.ave</th><th scope=col>東京.jan.ave</th><th scope=col>青梅.jan.ave</th><th scope=col>八王子.jan.ave</th><th scope=col>練馬.jan.ave</th><th scope=col>府中.jan.ave</th><th scope=col>江戸川臨海.aug.ave</th><th scope=col>東京.aug.ave</th><th scope=col>青梅.aug.ave</th><th scope=col>八王子.aug.ave</th><th scope=col>練馬.aug.ave</th><th scope=col>府中.aug.ave</th></tr>\n\t<tr><th scope=col>&lt;int&gt;</th><th scope=col>&lt;dbl&gt;</th><th scope=col>&lt;dbl&gt;</th><th scope=col>&lt;dbl&gt;</th><th scope=col>&lt;dbl&gt;</th><th scope=col>&lt;dbl&gt;</th><th scope=col>&lt;dbl&gt;</th><th scope=col>&lt;dbl&gt;</th><th scope=col>&lt;dbl&gt;</th><th scope=col>&lt;dbl&gt;</th><th scope=col>&lt;dbl&gt;</th><th scope=col>&lt;dbl&gt;</th><th scope=col>&lt;dbl&gt;</th></tr>\n</thead>\n<tbody>\n\t<tr><td>1977</td><td>3.1</td><td>3.4</td><td>0.7</td><td>0.9</td><td>2.2</td><td>1.8</td><td>24.1</td><td>25.0</td><td>22.8</td><td>23.7</td><td>24.4</td><td>23.8</td></tr>\n\t<tr><td>1978</td><td>5.4</td><td>5.6</td><td>2.6</td><td>2.9</td><td>4.0</td><td>3.7</td><td>28.1</td><td>28.9</td><td>26.6</td><td>27.4</td><td>28.2</td><td>27.6</td></tr>\n\t<tr><td>1979</td><td>5.8</td><td>6.6</td><td>3.7</td><td>3.2</td><td>4.6</td><td>4.4</td><td>26.3</td><td>27.4</td><td>24.9</td><td>25.9</td><td>26.4</td><td>26.1</td></tr>\n\t<tr><td>1980</td><td>5.2</td><td>5.6</td><td>2.6</td><td>3.0</td><td>3.8</td><td>3.7</td><td>22.3</td><td>23.4</td><td>21.7</td><td>22.4</td><td>22.7</td><td>22.5</td></tr>\n\t<tr><td>1981</td><td>3.9</td><td>4.4</td><td>1.1</td><td>1.0</td><td>2.7</td><td>2.2</td><td>25.5</td><td>26.2</td><td>24.0</td><td>24.9</td><td>26.1</td><td>25.1</td></tr>\n\t<tr><td>1982</td><td>5.5</td><td>5.8</td><td>2.5</td><td>2.9</td><td>4.6</td><td>4.1</td><td>25.9</td><td>27.1</td><td>24.6</td><td>25.4</td><td>26.6</td><td>25.7</td></tr>\n</tbody>\n</table>\n"
          },
          "metadata": {}
        },
        {
          "output_type": "stream",
          "text": "   年月 江戸川臨海.jan.ave 東京.jan.ave 青梅.jan.ave 八王子.jan.ave\n1  1977                3.1          3.4          0.7            0.9\n2  1978                5.4          5.6          2.6            2.9\n3  1979                5.8          6.6          3.7            3.2\n4  1980                5.2          5.6          2.6            3.0\n5  1981                3.9          4.4          1.1            1.0\n6  1982                5.5          5.8          2.5            2.9\n7  1983                5.6          6.2          2.5            3.2\n8  1984                3.1          3.7          0.3            0.7\n9  1985                3.6          4.1          0.7            1.2\n10 1986                3.9          4.5          0.9            1.6\n11 1987                5.3          5.8          2.6            2.9\n12 1988                7.0          7.7          4.5            5.2\n13 1989                7.5          8.1          5.2            5.8\n14 1990                4.8          5.0          1.9            2.1\n15 1991                6.1          6.3          3.3            3.3\n16 1992                6.3          6.8          3.7            3.9\n17 1993                5.7          6.2          3.4            3.9\n18 1994                6.2          5.5          2.5            3.0\n19 1995                5.9          6.3          3.0            3.3\n20 1996                6.1          6.6          2.7            3.3\n21 1997                6.6          6.8          2.9            3.3\n22 1998                5.1          5.3          2.0            2.5\n23 1999                6.4          6.6          3.3            3.5\n24 2000                7.3          7.6          4.8            5.2\n25 2001                4.5          4.9          1.6            2.1\n26 2002                7.1          7.4          3.7            4.2\n27 2003                5.1          5.5          2.4            2.7\n28 2004                6.0          6.3          3.2            3.2\n29 2005                6.1          6.1          2.8            3.3\n30 2006                4.9          5.1          2.3            2.3\n31 2007                7.4          7.6          4.4            4.8\n32 2008                5.7          5.9          3.1            3.4\n33 2009                6.8          6.8          4.0            4.2\n34 2010                6.7          7.0          3.6            3.7\n35 2011                5.0          5.1          2.2            2.3\n36 2012                4.3          4.8          1.8            2.0\n37 2013                5.2          5.5          2.6            2.7\n38 2014                5.9          6.3          3.0            3.2\n39 2015                6.1          5.8          3.6            3.5\n40 2016                6.5          6.1          3.8            4.1\n41 2017                6.4          5.8          3.8            3.8\n42 2018                5.2          4.7          2.5            2.6\n   練馬.jan.ave 府中.jan.ave 江戸川臨海.aug.ave 東京.aug.ave 青梅.aug.ave\n1           2.2          1.8               24.1         25.0         22.8\n2           4.0          3.7               28.1         28.9         26.6\n3           4.6          4.4               26.3         27.4         24.9\n4           3.8          3.7               22.3         23.4         21.7\n5           2.7          2.2               25.5         26.2         24.0\n6           4.6          4.1               25.9         27.1         24.6\n7           4.6          4.0               26.1         27.5         25.0\n8           2.0          1.6               27.4         28.6         26.1\n9           2.7          2.4               26.7         27.9         25.9\n10          3.0          2.4               25.4         26.8         24.9\n11          4.2          3.7               25.8         27.3         25.1\n12          6.2          5.7               25.3         27.0         24.8\n13          6.8          6.4               26.0         27.1         25.0\n14          3.6          3.0               27.5         28.6         26.8\n15          4.8          4.2               24.6         25.5         23.6\n16          5.4          4.8               25.7         27.0         24.9\n17          5.0          4.7               23.7         24.8         22.8\n18          4.2          3.8               27.7         28.9         26.9\n19          4.8          4.4               27.8         29.4         27.3\n20          5.1          4.5               24.9         26.0         24.5\n21          5.2          4.6               25.9         27.0         25.4\n22          3.8          3.5               26.4         27.2         25.3\n23          5.2          4.8               27.8         28.5         26.6\n24          6.6          6.3               27.3         28.3         26.4\n25          3.4          3.2               25.6         26.4         24.5\n26          5.8          5.2               26.7         28.0         26.4\n27          4.0          3.8               24.8         26.0         24.4\n28          5.1          4.7               26.4         27.2         25.1\n29          4.5          4.4               26.8         28.1         26.5\n30          3.8          3.6               26.4         27.5         25.9\n31          6.3          6.0               27.7         29.0         27.4\n32          4.6          4.5               26.2         26.8         25.0\n33          5.6          5.3                 NA         26.6         24.9\n34          5.6          5.0               28.6         29.6         28.0\n35          3.9          3.3               26.8         27.5         25.7\n36          3.4          3.0               28.2         29.1         27.2\n37          3.7          3.6               28.3         29.2         27.2\n38          4.4          4.3               26.3         27.7         26.0\n39          5.0          4.6               26.5         26.7         25.5\n40          5.2          4.8               27.2         27.1         26.0\n41          5.0          4.8               26.4         26.4         25.4\n42          3.8          3.5               27.7         28.1         27.3\n   八王子.aug.ave 練馬.aug.ave 府中.aug.ave\n1            23.7         24.4         23.8\n2            27.4         28.2         27.6\n3            25.9         26.4         26.1\n4            22.4         22.7         22.5\n5            24.9         26.1         25.1\n6            25.4         26.6         25.7\n7            25.7         27.0         26.1\n8            26.9         28.2         27.5\n9            26.6         27.8         27.2\n10           25.5         26.6         25.9\n11           26.0         26.8         26.2\n12           25.5         26.5         25.8\n13           25.5         26.7         25.9\n14           27.6         28.4         27.7\n15           24.3         25.1         24.6\n16           25.6         26.9         25.9\n17           23.5         24.3         23.9\n18           27.5         28.9         27.8\n19           28.0         29.4         28.2\n20           25.1         26.0         25.4\n21           26.0         27.0         26.5\n22           25.8         26.9         26.5\n23           27.1         28.6         27.7\n24           26.9         28.0         27.3\n25           25.0         26.0         25.8\n26           27.0         27.8         27.3\n27           24.9         25.9         25.4\n28           25.6         27.0         26.2\n29           26.9         28.0         27.3\n30           26.2         27.6         26.9\n31           27.8         29.1         28.3\n32           25.5         26.5         26.2\n33           25.6         26.5         26.1\n34           28.4         29.9         28.7\n35           26.3         27.4         26.8\n36           27.6         29.0         27.9\n37           27.7         28.4         27.9\n38           26.5         27.0         26.6\n39           25.9         26.7         26.2\n40           26.3         27.2         26.8\n41           25.7         26.5         26.1\n42           27.6         28.3         27.8\n",
          "name": "stdout"
        }
      ]
    },
    {
      "metadata": {
        "trusted": true
      },
      "cell_type": "code",
      "source": "# 欠損値のある行を削除\ndf <- na.omit(df)\nprint(df)",
      "execution_count": 3,
      "outputs": [
        {
          "output_type": "stream",
          "text": "   年月 江戸川臨海.jan.ave 東京.jan.ave 青梅.jan.ave 八王子.jan.ave\n1  1977                3.1          3.4          0.7            0.9\n2  1978                5.4          5.6          2.6            2.9\n3  1979                5.8          6.6          3.7            3.2\n4  1980                5.2          5.6          2.6            3.0\n5  1981                3.9          4.4          1.1            1.0\n6  1982                5.5          5.8          2.5            2.9\n7  1983                5.6          6.2          2.5            3.2\n8  1984                3.1          3.7          0.3            0.7\n9  1985                3.6          4.1          0.7            1.2\n10 1986                3.9          4.5          0.9            1.6\n11 1987                5.3          5.8          2.6            2.9\n12 1988                7.0          7.7          4.5            5.2\n13 1989                7.5          8.1          5.2            5.8\n14 1990                4.8          5.0          1.9            2.1\n15 1991                6.1          6.3          3.3            3.3\n16 1992                6.3          6.8          3.7            3.9\n17 1993                5.7          6.2          3.4            3.9\n18 1994                6.2          5.5          2.5            3.0\n19 1995                5.9          6.3          3.0            3.3\n20 1996                6.1          6.6          2.7            3.3\n21 1997                6.6          6.8          2.9            3.3\n22 1998                5.1          5.3          2.0            2.5\n23 1999                6.4          6.6          3.3            3.5\n24 2000                7.3          7.6          4.8            5.2\n25 2001                4.5          4.9          1.6            2.1\n26 2002                7.1          7.4          3.7            4.2\n27 2003                5.1          5.5          2.4            2.7\n28 2004                6.0          6.3          3.2            3.2\n29 2005                6.1          6.1          2.8            3.3\n30 2006                4.9          5.1          2.3            2.3\n31 2007                7.4          7.6          4.4            4.8\n32 2008                5.7          5.9          3.1            3.4\n34 2010                6.7          7.0          3.6            3.7\n35 2011                5.0          5.1          2.2            2.3\n36 2012                4.3          4.8          1.8            2.0\n37 2013                5.2          5.5          2.6            2.7\n38 2014                5.9          6.3          3.0            3.2\n39 2015                6.1          5.8          3.6            3.5\n40 2016                6.5          6.1          3.8            4.1\n41 2017                6.4          5.8          3.8            3.8\n42 2018                5.2          4.7          2.5            2.6\n   練馬.jan.ave 府中.jan.ave 江戸川臨海.aug.ave 東京.aug.ave 青梅.aug.ave\n1           2.2          1.8               24.1         25.0         22.8\n2           4.0          3.7               28.1         28.9         26.6\n3           4.6          4.4               26.3         27.4         24.9\n4           3.8          3.7               22.3         23.4         21.7\n5           2.7          2.2               25.5         26.2         24.0\n6           4.6          4.1               25.9         27.1         24.6\n7           4.6          4.0               26.1         27.5         25.0\n8           2.0          1.6               27.4         28.6         26.1\n9           2.7          2.4               26.7         27.9         25.9\n10          3.0          2.4               25.4         26.8         24.9\n11          4.2          3.7               25.8         27.3         25.1\n12          6.2          5.7               25.3         27.0         24.8\n13          6.8          6.4               26.0         27.1         25.0\n14          3.6          3.0               27.5         28.6         26.8\n15          4.8          4.2               24.6         25.5         23.6\n16          5.4          4.8               25.7         27.0         24.9\n17          5.0          4.7               23.7         24.8         22.8\n18          4.2          3.8               27.7         28.9         26.9\n19          4.8          4.4               27.8         29.4         27.3\n20          5.1          4.5               24.9         26.0         24.5\n21          5.2          4.6               25.9         27.0         25.4\n22          3.8          3.5               26.4         27.2         25.3\n23          5.2          4.8               27.8         28.5         26.6\n24          6.6          6.3               27.3         28.3         26.4\n25          3.4          3.2               25.6         26.4         24.5\n26          5.8          5.2               26.7         28.0         26.4\n27          4.0          3.8               24.8         26.0         24.4\n28          5.1          4.7               26.4         27.2         25.1\n29          4.5          4.4               26.8         28.1         26.5\n30          3.8          3.6               26.4         27.5         25.9\n31          6.3          6.0               27.7         29.0         27.4\n32          4.6          4.5               26.2         26.8         25.0\n34          5.6          5.0               28.6         29.6         28.0\n35          3.9          3.3               26.8         27.5         25.7\n36          3.4          3.0               28.2         29.1         27.2\n37          3.7          3.6               28.3         29.2         27.2\n38          4.4          4.3               26.3         27.7         26.0\n39          5.0          4.6               26.5         26.7         25.5\n40          5.2          4.8               27.2         27.1         26.0\n41          5.0          4.8               26.4         26.4         25.4\n42          3.8          3.5               27.7         28.1         27.3\n   八王子.aug.ave 練馬.aug.ave 府中.aug.ave\n1            23.7         24.4         23.8\n2            27.4         28.2         27.6\n3            25.9         26.4         26.1\n4            22.4         22.7         22.5\n5            24.9         26.1         25.1\n6            25.4         26.6         25.7\n7            25.7         27.0         26.1\n8            26.9         28.2         27.5\n9            26.6         27.8         27.2\n10           25.5         26.6         25.9\n11           26.0         26.8         26.2\n12           25.5         26.5         25.8\n13           25.5         26.7         25.9\n14           27.6         28.4         27.7\n15           24.3         25.1         24.6\n16           25.6         26.9         25.9\n17           23.5         24.3         23.9\n18           27.5         28.9         27.8\n19           28.0         29.4         28.2\n20           25.1         26.0         25.4\n21           26.0         27.0         26.5\n22           25.8         26.9         26.5\n23           27.1         28.6         27.7\n24           26.9         28.0         27.3\n25           25.0         26.0         25.8\n26           27.0         27.8         27.3\n27           24.9         25.9         25.4\n28           25.6         27.0         26.2\n29           26.9         28.0         27.3\n30           26.2         27.6         26.9\n31           27.8         29.1         28.3\n32           25.5         26.5         26.2\n34           28.4         29.9         28.7\n35           26.3         27.4         26.8\n36           27.6         29.0         27.9\n37           27.7         28.4         27.9\n38           26.5         27.0         26.6\n39           25.9         26.7         26.2\n40           26.3         27.2         26.8\n41           25.7         26.5         26.1\n42           27.6         28.3         27.8\n",
          "name": "stdout"
        }
      ]
    },
    {
      "metadata": {
        "trusted": true
      },
      "cell_type": "code",
      "source": "print(mean(df$'江戸川臨海.jan.ave'))\nprint(mean(df$'練馬.jan.ave'))\nprint(mean(df$'江戸川臨海.aug.ave'))\nprint(mean(df$'練馬.aug.ave'))\n",
      "execution_count": 9,
      "outputs": [
        {
          "output_type": "stream",
          "text": "[1] 5.597561\n[1] 4.453659\n[1] 26.36098\n[1] 27.11707\n",
          "name": "stdout"
        }
      ]
    },
    {
      "metadata": {
        "trusted": true
      },
      "cell_type": "code",
      "source": "var.test(df$'江戸川臨海.jan.ave', df$'練馬.jan.ave')",
      "execution_count": 11,
      "outputs": [
        {
          "output_type": "display_data",
          "data": {
            "text/plain": "\n\tF test to compare two variances\n\ndata:  df$江戸川臨海.jan.ave and df$練馬.jan.ave\nF = 0.97042, num df = 40, denom df = 40, p-value = 0.9248\nalternative hypothesis: true ratio of variances is not equal to 1\n95 percent confidence interval:\n 0.5175003 1.8197201\nsample estimates:\nratio of variances \n         0.9704152 \n"
          },
          "metadata": {}
        }
      ]
    },
    {
      "metadata": {
        "trusted": true
      },
      "cell_type": "code",
      "source": "t.test(df$'江戸川臨海.jan.ave', df$'練馬.jan.ave', paired=TRUE)",
      "execution_count": 12,
      "outputs": [
        {
          "output_type": "display_data",
          "data": {
            "text/plain": "\n\tPaired t-test\n\ndata:  df$江戸川臨海.jan.ave and df$練馬.jan.ave\nt = 27.581, df = 40, p-value < 2.2e-16\nalternative hypothesis: true difference in means is not equal to 0\n95 percent confidence interval:\n 1.060080 1.227725\nsample estimates:\nmean of the differences \n               1.143902 \n"
          },
          "metadata": {}
        }
      ]
    },
    {
      "metadata": {
        "trusted": true
      },
      "cell_type": "code",
      "source": "t.test(df$'江戸川臨海.aug.ave', df$'練馬.aug.ave', paired=TRUE)",
      "execution_count": 13,
      "outputs": [
        {
          "output_type": "display_data",
          "data": {
            "text/plain": "\n\tPaired t-test\n\ndata:  df$江戸川臨海.aug.ave and df$練馬.aug.ave\nt = -11.707, df = 40, p-value = 1.699e-14\nalternative hypothesis: true difference in means is not equal to 0\n95 percent confidence interval:\n -0.8866303 -0.6255648\nsample estimates:\nmean of the differences \n             -0.7560976 \n"
          },
          "metadata": {}
        }
      ]
    },
    {
      "metadata": {
        "trusted": true
      },
      "cell_type": "code",
      "source": "t.test(df$'江戸川臨海.jan.ave', df$'練馬.jan.ave', var.equal=TRUE)\nt.test(df$'江戸川臨海.aug.ave', df$'練馬.aug.ave', var.equal=TRUE)",
      "execution_count": 16,
      "outputs": [
        {
          "output_type": "display_data",
          "data": {
            "text/plain": "\n\tTwo Sample t-test\n\ndata:  df$江戸川臨海.jan.ave and df$練馬.jan.ave\nt = 4.6782, df = 80, p-value = 1.16e-05\nalternative hypothesis: true difference in means is not equal to 0\n95 percent confidence interval:\n 0.6573019 1.6305030\nsample estimates:\nmean of x mean of y \n 5.597561  4.453659 \n"
          },
          "metadata": {}
        },
        {
          "output_type": "display_data",
          "data": {
            "text/plain": "\n\tTwo Sample t-test\n\ndata:  df$江戸川臨海.aug.ave and df$練馬.aug.ave\nt = -2.4771, df = 80, p-value = 0.01535\nalternative hypothesis: true difference in means is not equal to 0\n95 percent confidence interval:\n -1.3635334 -0.1486617\nsample estimates:\nmean of x mean of y \n 26.36098  27.11707 \n"
          },
          "metadata": {}
        }
      ]
    },
    {
      "metadata": {
        "trusted": true
      },
      "cell_type": "code",
      "source": "",
      "execution_count": null,
      "outputs": []
    }
  ],
  "metadata": {
    "kernelspec": {
      "name": "r",
      "display_name": "R",
      "language": "R"
    },
    "language_info": {
      "mimetype": "text/x-r-source",
      "name": "R",
      "pygments_lexer": "r",
      "version": "3.5.3",
      "file_extension": ".r",
      "codemirror_mode": "r"
    }
  },
  "nbformat": 4,
  "nbformat_minor": 2
}