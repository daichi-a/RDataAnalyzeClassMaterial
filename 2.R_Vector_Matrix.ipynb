{
  "cells": [
    {
      "metadata": {
        "trusted": true
      },
      "cell_type": "code",
      "source": "# 要素を指定して生成\nvec1 <- c(2, 4, 6, 8) \nvec2 <- c(1, 2, 1, 2)\n\n# 各要素の演算\n# ベクトルの各要素に2をかける\nprint(vec1 * 2)\n\n# vec1の各要素からvec2の各要素で引く\nprint(vec1 - vec2)\n\n# ベクトル同士の積(内積)\nprint(vec1 %*% vec2)\n\n# ベクトル同士の外積(直積，テンソル積)\nprint(vec1 %o% vec2)\n\n# sequence関数で生成\nvec3 <- seq(1:5) # c(seq(開始:終了))\nprint(vec3)\n\nvec3 <- seq(1, 10, length=5) # ,であることに注意．1から10まで要素数5の等差数列，つまり5段階で\nprint(vec3)\n\nvec4 <- seq(1, 10, by=2) # ,であることに注意．1から10まで，2ずつ増やしながら．\nprint(vec4)\n\n# repeat関数で生成\nvec5 <- rep(1:2, times=5) # rep(繰り返し開始値:繰り返し終了値, time=繰り返し回数)\nprint(vec5)\n\nvec6 <- rep(1:2, length=5) # rep(繰り返し開始値:繰り返し終了値, length=要素数) 要素数に達するまで繰り返される\nprint(vec6)\n\n# 要素へのアクセス\nprint(vec1[3]) #インデックスが1~であることに注意\n\n# 要素の追加\n# 非破壊であることに注目\nvec7 <- append(vec1, 9)\nprint(vec7)",
      "execution_count": 52,
      "outputs": [
        {
          "output_type": "stream",
          "text": "[1]  4  8 12 16\n[1] 1 2 5 6\n     [,1]\n[1,]   32\n     [,1] [,2] [,3] [,4]\n[1,]    2    4    2    4\n[2,]    4    8    4    8\n[3,]    6   12    6   12\n[4,]    8   16    8   16\n[1] 1 2 3 4 5\n[1]  1.00  3.25  5.50  7.75 10.00\n[1] 1 3 5 7 9\n [1] 1 2 1 2 1 2 1 2 1 2\n[1] 1 2 1 2 1\n[1] 6\n[1] 2 4 6 8 9\n",
          "name": "stdout"
        }
      ]
    },
    {
      "metadata": {
        "trusted": true
      },
      "cell_type": "code",
      "source": "p1 <- runif(10, min=-1.0, max=1.0) # -1から1までの一様分布を10個生成する runifはrandom uniformの略\nprint(vector(p1))\nhist(p1) # ヒストグラムを描く\n\np2 <- rnorm(100, mean=5, sd=2) # 平均5，標準偏差2の分布に従う乱数を10個生成\nhist(p2)",
      "execution_count": 50,
      "outputs": [
        {
          "output_type": "error",
          "ename": "ERROR",
          "evalue": "Error in vector(p1): invalid 'mode' argument\n",
          "traceback": [
            "Error in vector(p1): invalid 'mode' argument\nTraceback:\n",
            "1. print(vector(p1))",
            "2. vector(p1)"
          ]
        }
      ]
    },
    {
      "metadata": {
        "trusted": true
      },
      "cell_type": "code",
      "source": "# 要素の集計ビルトイン関数\nprint(sum(vec4)) # 合計\nprint(mean(vec4)) # 平均\nprint(median(vec4)) # 中央値\nsummary(vec4) # 全部表示",
      "execution_count": 30,
      "outputs": [
        {
          "output_type": "stream",
          "text": "[1] 15\n[1] 1.5\n[1] 1.5\n",
          "name": "stdout"
        },
        {
          "output_type": "display_data",
          "data": {
            "text/plain": "   Min. 1st Qu.  Median    Mean 3rd Qu.    Max. \n    1.0     1.0     1.5     1.5     2.0     2.0 "
          },
          "metadata": {}
        }
      ]
    },
    {
      "metadata": {
        "trusted": true
      },
      "cell_type": "code",
      "source": "print(max(vec3)) # 最大値\nprint(min(vec3)) # 最小値\nprint(which.max(vec3)) # 最大値のインデックス\nprint(which.min(vec3)) # 最小値のインデックス\n\nprint(unique(vec5)) # 重複する値を削除",
      "execution_count": null,
      "outputs": []
    },
    {
      "metadata": {
        "trusted": true
      },
      "cell_type": "code",
      "source": "# 2次元配列は前項のように2次元配列としても扱えるが，Rでは行列として扱うことが多い\n# 要素を指定して生成\nmat1 <- matrix(c(1, 2, 3, 4), 2, 2) # 2*2の行列\nprint(mat1)\n\n# sequence関数で生成\nmat2 <- matrix(c(seq(1:9)), 3, 3) # 3 * 3の行列\nprint(mat2)\n\n# ",
      "execution_count": 5,
      "outputs": [
        {
          "output_type": "stream",
          "text": "     [,1] [,2]\n[1,]    1    3\n[2,]    2    4\n     [,1] [,2] [,3]\n[1,]    1    4    7\n[2,]    2    5    8\n[3,]    3    6    9\n",
          "name": "stdout"
        }
      ]
    },
    {
      "metadata": {
        "trusted": true
      },
      "cell_type": "code",
      "source": "",
      "execution_count": null,
      "outputs": []
    }
  ],
  "metadata": {
    "kernelspec": {
      "name": "r",
      "display_name": "R",
      "language": "R"
    },
    "language_info": {
      "mimetype": "text/x-r-source",
      "name": "R",
      "pygments_lexer": "r",
      "version": "3.5.3",
      "file_extension": ".r",
      "codemirror_mode": "r"
    }
  },
  "nbformat": 4,
  "nbformat_minor": 2
}