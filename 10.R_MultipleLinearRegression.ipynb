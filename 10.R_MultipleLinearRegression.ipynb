{
  "cells": [
    {
      "metadata": {
        "trusted": true
      },
      "cell_type": "code",
      "source": "url <- 'https://docs.google.com/spreadsheets/d/e/2PACX-1vRb9Z3Gapmyib9gnASg_V5amr0HqKezY4CtURm9X2c9TZI0t1U675pYZO-cT5z-q5H4b1_U2bh7Kd3z/pub?gid=1204747285&single=true&output=csv'\ndf <- read.csv(url, header=TRUE)\nhead(df)",
      "execution_count": 6,
      "outputs": [
        {
          "output_type": "display_data",
          "data": {
            "text/plain": "  平均気温 降水量の合計 日照時間 平均風速\n1 23.7     461          125.7    1.2     \n2 27.4      22          294.7    1.6     \n3 25.9      93          152.1    1.2     \n4 22.4     173           84.3    1.0     \n5 24.9     151          185.1    1.3     \n6 25.4     410          184.3    1.3     ",
            "text/latex": "A data.frame: 6 x 4\n\\begin{tabular}{r|llll}\n 平均気温 & 降水量の合計 & 日照時間 & 平均風速\\\\\n <dbl> & <dbl> & <dbl> & <dbl>\\\\\n\\hline\n\t 23.7 & 461 & 125.7 & 1.2\\\\\n\t 27.4 &  22 & 294.7 & 1.6\\\\\n\t 25.9 &  93 & 152.1 & 1.2\\\\\n\t 22.4 & 173 &  84.3 & 1.0\\\\\n\t 24.9 & 151 & 185.1 & 1.3\\\\\n\t 25.4 & 410 & 184.3 & 1.3\\\\\n\\end{tabular}\n",
            "text/markdown": "\nA data.frame: 6 x 4\n\n| 平均気温 &lt;dbl&gt; | 降水量の合計 &lt;dbl&gt; | 日照時間 &lt;dbl&gt; | 平均風速 &lt;dbl&gt; |\n|---|---|---|---|\n| 23.7 | 461 | 125.7 | 1.2 |\n| 27.4 |  22 | 294.7 | 1.6 |\n| 25.9 |  93 | 152.1 | 1.2 |\n| 22.4 | 173 |  84.3 | 1.0 |\n| 24.9 | 151 | 185.1 | 1.3 |\n| 25.4 | 410 | 184.3 | 1.3 |\n\n",
            "text/html": "<table>\n<caption>A data.frame: 6 x 4</caption>\n<thead>\n\t<tr><th scope=col>平均気温</th><th scope=col>降水量の合計</th><th scope=col>日照時間</th><th scope=col>平均風速</th></tr>\n\t<tr><th scope=col>&lt;dbl&gt;</th><th scope=col>&lt;dbl&gt;</th><th scope=col>&lt;dbl&gt;</th><th scope=col>&lt;dbl&gt;</th></tr>\n</thead>\n<tbody>\n\t<tr><td>23.7</td><td>461</td><td>125.7</td><td>1.2</td></tr>\n\t<tr><td>27.4</td><td> 22</td><td>294.7</td><td>1.6</td></tr>\n\t<tr><td>25.9</td><td> 93</td><td>152.1</td><td>1.2</td></tr>\n\t<tr><td>22.4</td><td>173</td><td> 84.3</td><td>1.0</td></tr>\n\t<tr><td>24.9</td><td>151</td><td>185.1</td><td>1.3</td></tr>\n\t<tr><td>25.4</td><td>410</td><td>184.3</td><td>1.3</td></tr>\n</tbody>\n</table>\n"
          },
          "metadata": {}
        }
      ]
    },
    {
      "metadata": {
        "trusted": true
      },
      "cell_type": "code",
      "source": "result.lm <- lm(formula='平均気温 ~ .', data=df)\nsummary(result.lm)",
      "execution_count": 11,
      "outputs": [
        {
          "output_type": "display_data",
          "data": {
            "text/plain": "\nCall:\nlm(formula = \"平均気温 ~ .\", data = df)\n\nResiduals:\n    Min      1Q  Median      3Q     Max \n-1.7948 -0.6126  0.1871  0.5318  1.1036 \n\nCoefficients:\n              Estimate Std. Error t value Pr(>|t|)    \n(Intercept)  22.274174   0.642870  34.648  < 2e-16 ***\n降水量の合計 -0.000349   0.000866  -0.403  0.68922    \n日照時間      0.013820   0.002563   5.393 3.87e-06 ***\n平均風速      0.561129   0.174873   3.209  0.00271 ** \n---\nSignif. codes:  0 ‘***’ 0.001 ‘**’ 0.01 ‘*’ 0.05 ‘.’ 0.1 ‘ ’ 1\n\nResidual standard error: 0.7996 on 38 degrees of freedom\nMultiple R-squared:  0.6357,\tAdjusted R-squared:  0.6069 \nF-statistic:  22.1 on 3 and 38 DF,  p-value: 1.89e-08\n"
          },
          "metadata": {}
        }
      ]
    },
    {
      "metadata": {
        "trusted": true
      },
      "cell_type": "code",
      "source": "result.lm2 <- lm(formula='平均気温 ~ 日照時間 + 平均風速', data=df)\nsummary(result.lm2)",
      "execution_count": 12,
      "outputs": [
        {
          "output_type": "display_data",
          "data": {
            "text/plain": "\nCall:\nlm(formula = \"平均気温 ~ 日照時間 + 平均風速\", data = df)\n\nResiduals:\n    Min      1Q  Median      3Q     Max \n-1.8292 -0.6002  0.1751  0.5433  1.0780 \n\nCoefficients:\n             Estimate Std. Error t value Pr(>|t|)    \n(Intercept) 22.127196   0.523674  42.254  < 2e-16 ***\n日照時間     0.014232   0.002324   6.124 3.49e-07 ***\n平均風速     0.560468   0.172977   3.240  0.00245 ** \n---\nSignif. codes:  0 ‘***’ 0.001 ‘**’ 0.01 ‘*’ 0.05 ‘.’ 0.1 ‘ ’ 1\n\nResidual standard error: 0.791 on 39 degrees of freedom\nMultiple R-squared:  0.6341,\tAdjusted R-squared:  0.6153 \nF-statistic: 33.79 on 2 and 39 DF,  p-value: 3.058e-09\n"
          },
          "metadata": {}
        }
      ]
    },
    {
      "metadata": {
        "trusted": true
      },
      "cell_type": "code",
      "source": "",
      "execution_count": null,
      "outputs": []
    }
  ],
  "metadata": {
    "kernelspec": {
      "name": "r",
      "display_name": "R",
      "language": "R"
    },
    "language_info": {
      "mimetype": "text/x-r-source",
      "name": "R",
      "pygments_lexer": "r",
      "version": "3.5.3",
      "file_extension": ".r",
      "codemirror_mode": "r"
    }
  },
  "nbformat": 4,
  "nbformat_minor": 2
}