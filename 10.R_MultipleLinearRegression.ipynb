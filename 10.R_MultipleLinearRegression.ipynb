{
  "cells": [
    {
      "metadata": {
        "trusted": true
      },
      "cell_type": "code",
      "source": "url <- 'https://docs.google.com/spreadsheets/d/e/2PACX-1vRb9Z3Gapmyib9gnASg_V5amr0HqKezY4CtURm9X2c9TZI0t1U675pYZO-cT5z-q5H4b1_U2bh7Kd3z/pub?gid=1204747285&single=true&output=csv'\ndf <- read.csv(url, header=TRUE)\nhead(df)",
      "execution_count": 3,
      "outputs": [
        {
          "output_type": "stream",
          "text": "Warning message in file(file, \"rt\"):\n“URL 'https://docs.google.com/spreadsheets/d/e/2PACX-1vRb9Z3Gapmyib9gnASg_V5amr0HqKezY4CtURm9X2c9TZI0t1U675pYZO-cT5z-q5H4b1_U2bh7Kd3z/pub?gid=1204747285&single=true&output=csv': status was 'Couldn't connect to server'”",
          "name": "stderr"
        },
        {
          "output_type": "error",
          "ename": "ERROR",
          "evalue": "Error in file(file, \"rt\"): cannot open the connection to 'https://docs.google.com/spreadsheets/d/e/2PACX-1vRb9Z3Gapmyib9gnASg_V5amr0HqKezY4CtURm9X2c9TZI0t1U675pYZO-cT5z-q5H4b1_U2bh7Kd3z/pub?gid=1204747285&single=true&output=csv'\n",
          "traceback": [
            "Error in file(file, \"rt\"): cannot open the connection to 'https://docs.google.com/spreadsheets/d/e/2PACX-1vRb9Z3Gapmyib9gnASg_V5amr0HqKezY4CtURm9X2c9TZI0t1U675pYZO-cT5z-q5H4b1_U2bh7Kd3z/pub?gid=1204747285&single=true&output=csv'\nTraceback:\n",
            "1. read.csv(url, header = TRUE)",
            "2. read.table(file = file, header = header, sep = sep, quote = quote, \n .     dec = dec, fill = fill, comment.char = comment.char, ...)",
            "3. file(file, \"rt\")"
          ]
        }
      ]
    },
    {
      "metadata": {
        "trusted": true
      },
      "cell_type": "code",
      "source": "result.lm <- lm(formula='平均気温 ~ .', data=df)\nsummary(result.lm)",
      "execution_count": 11,
      "outputs": [
        {
          "output_type": "display_data",
          "data": {
            "text/plain": "\nCall:\nlm(formula = \"平均気温 ~ .\", data = df)\n\nResiduals:\n    Min      1Q  Median      3Q     Max \n-1.7948 -0.6126  0.1871  0.5318  1.1036 \n\nCoefficients:\n              Estimate Std. Error t value Pr(>|t|)    \n(Intercept)  22.274174   0.642870  34.648  < 2e-16 ***\n降水量の合計 -0.000349   0.000866  -0.403  0.68922    \n日照時間      0.013820   0.002563   5.393 3.87e-06 ***\n平均風速      0.561129   0.174873   3.209  0.00271 ** \n---\nSignif. codes:  0 ‘***’ 0.001 ‘**’ 0.01 ‘*’ 0.05 ‘.’ 0.1 ‘ ’ 1\n\nResidual standard error: 0.7996 on 38 degrees of freedom\nMultiple R-squared:  0.6357,\tAdjusted R-squared:  0.6069 \nF-statistic:  22.1 on 3 and 38 DF,  p-value: 1.89e-08\n"
          },
          "metadata": {}
        }
      ]
    },
    {
      "metadata": {
        "trusted": true
      },
      "cell_type": "code",
      "source": "result.lm2 <- lm(formula='平均気温 ~ 日照時間 + 平均風速', data=df)\nsummary(result.lm2)",
      "execution_count": 12,
      "outputs": [
        {
          "output_type": "display_data",
          "data": {
            "text/plain": "\nCall:\nlm(formula = \"平均気温 ~ 日照時間 + 平均風速\", data = df)\n\nResiduals:\n    Min      1Q  Median      3Q     Max \n-1.8292 -0.6002  0.1751  0.5433  1.0780 \n\nCoefficients:\n             Estimate Std. Error t value Pr(>|t|)    \n(Intercept) 22.127196   0.523674  42.254  < 2e-16 ***\n日照時間     0.014232   0.002324   6.124 3.49e-07 ***\n平均風速     0.560468   0.172977   3.240  0.00245 ** \n---\nSignif. codes:  0 ‘***’ 0.001 ‘**’ 0.01 ‘*’ 0.05 ‘.’ 0.1 ‘ ’ 1\n\nResidual standard error: 0.791 on 39 degrees of freedom\nMultiple R-squared:  0.6341,\tAdjusted R-squared:  0.6153 \nF-statistic: 33.79 on 2 and 39 DF,  p-value: 3.058e-09\n"
          },
          "metadata": {}
        }
      ]
    },
    {
      "metadata": {
        "trusted": true
      },
      "cell_type": "code",
      "source": "",
      "execution_count": null,
      "outputs": []
    }
  ],
  "metadata": {
    "kernelspec": {
      "name": "r",
      "display_name": "R",
      "language": "R"
    }
  },
  "nbformat": 4,
  "nbformat_minor": 2
}