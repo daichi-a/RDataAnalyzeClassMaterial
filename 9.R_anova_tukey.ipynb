{
  "cells": [
    {
      "metadata": {
        "trusted": true
      },
      "cell_type": "code",
      "source": "url <- 'https://docs.google.com/spreadsheets/d/e/2PACX-1vSojvSyQmboSLQTHF__Fm4MgQrnXOoRHpO4PKR9jKUlkU1KIZtL6k5OzYjbiGVRUlrfBWDXL6xkYwy_/pub?gid=655120483&single=true&output=csv'\ndf <- read.csv(url, header=TRUE)  #　header=TRUE　は第１行が列の変数名\n# 欠損値のある行を削除\ndf <- na.omit(df)\nhead(df)\nprint(df)",
      "execution_count": 2,
      "outputs": [
        {
          "output_type": "display_data",
          "data": {
            "text/plain": "  平均気温 群  \n1 0.7      青梅\n2 2.6      青梅\n3 3.7      青梅\n4 2.6      青梅\n5 1.1      青梅\n6 2.5      青梅",
            "text/latex": "A data.frame: 6 x 2\n\\begin{tabular}{r|ll}\n 平均気温 & 群\\\\\n <dbl> & <fct>\\\\\n\\hline\n\t 0.7 & 青梅\\\\\n\t 2.6 & 青梅\\\\\n\t 3.7 & 青梅\\\\\n\t 2.6 & 青梅\\\\\n\t 1.1 & 青梅\\\\\n\t 2.5 & 青梅\\\\\n\\end{tabular}\n",
            "text/markdown": "\nA data.frame: 6 x 2\n\n| 平均気温 &lt;dbl&gt; | 群 &lt;fct&gt; |\n|---|---|\n| 0.7 | 青梅 |\n| 2.6 | 青梅 |\n| 3.7 | 青梅 |\n| 2.6 | 青梅 |\n| 1.1 | 青梅 |\n| 2.5 | 青梅 |\n\n",
            "text/html": "<table>\n<caption>A data.frame: 6 x 2</caption>\n<thead>\n\t<tr><th scope=col>平均気温</th><th scope=col>群</th></tr>\n\t<tr><th scope=col>&lt;dbl&gt;</th><th scope=col>&lt;fct&gt;</th></tr>\n</thead>\n<tbody>\n\t<tr><td>0.7</td><td>青梅</td></tr>\n\t<tr><td>2.6</td><td>青梅</td></tr>\n\t<tr><td>3.7</td><td>青梅</td></tr>\n\t<tr><td>2.6</td><td>青梅</td></tr>\n\t<tr><td>1.1</td><td>青梅</td></tr>\n\t<tr><td>2.5</td><td>青梅</td></tr>\n</tbody>\n</table>\n"
          },
          "metadata": {}
        },
        {
          "output_type": "stream",
          "text": "    平均気温     群\n1        0.7   青梅\n2        2.6   青梅\n3        3.7   青梅\n4        2.6   青梅\n5        1.1   青梅\n6        2.5   青梅\n7        2.5   青梅\n8        0.3   青梅\n9        0.7   青梅\n10       0.9   青梅\n11       2.6   青梅\n12       4.5   青梅\n13       5.2   青梅\n14       1.9   青梅\n15       3.3   青梅\n16       3.7   青梅\n17       3.4   青梅\n18       2.5   青梅\n19       3.0   青梅\n20       2.7   青梅\n21       2.9   青梅\n22       2.0   青梅\n23       3.3   青梅\n24       4.8   青梅\n25       1.6   青梅\n26       3.7   青梅\n27       2.4   青梅\n28       3.2   青梅\n29       2.8   青梅\n30       2.3   青梅\n31       4.4   青梅\n32       3.1   青梅\n33       4.0   青梅\n34       3.6   青梅\n35       2.2   青梅\n36       1.8   青梅\n37       2.6   青梅\n38       3.0   青梅\n39       3.6   青梅\n40       3.8   青梅\n41       3.8   青梅\n42       2.5   青梅\n43       0.9 八王子\n44       2.9 八王子\n45       3.2 八王子\n46       3.0 八王子\n47       1.0 八王子\n48       2.9 八王子\n49       3.2 八王子\n50       0.7 八王子\n51       1.2 八王子\n52       1.6 八王子\n53       2.9 八王子\n54       5.2 八王子\n55       5.8 八王子\n56       2.1 八王子\n57       3.3 八王子\n58       3.9 八王子\n59       3.9 八王子\n60       3.0 八王子\n61       3.3 八王子\n62       3.3 八王子\n63       3.3 八王子\n64       2.5 八王子\n65       3.5 八王子\n66       5.2 八王子\n67       2.1 八王子\n68       4.2 八王子\n69       2.7 八王子\n70       3.2 八王子\n71       3.3 八王子\n72       2.3 八王子\n73       4.8 八王子\n74       3.4 八王子\n75       4.2 八王子\n76       3.7 八王子\n77       2.3 八王子\n78       2.0 八王子\n79       2.7 八王子\n80       3.2 八王子\n81       3.5 八王子\n82       4.1 八王子\n83       3.8 八王子\n84       2.6 八王子\n85       1.8   府中\n86       3.7   府中\n87       4.4   府中\n88       3.7   府中\n89       2.2   府中\n90       4.1   府中\n91       4.0   府中\n92       1.6   府中\n93       2.4   府中\n94       2.4   府中\n95       3.7   府中\n96       5.7   府中\n97       6.4   府中\n98       3.0   府中\n99       4.2   府中\n100      4.8   府中\n101      4.7   府中\n102      3.8   府中\n103      4.4   府中\n104      4.5   府中\n105      4.6   府中\n106      3.5   府中\n107      4.8   府中\n108      6.3   府中\n109      3.2   府中\n110      5.2   府中\n111      3.8   府中\n112      4.7   府中\n113      4.4   府中\n114      3.6   府中\n115      6.0   府中\n116      4.5   府中\n117      5.3   府中\n118      5.0   府中\n119      3.3   府中\n120      3.0   府中\n121      3.6   府中\n122      4.3   府中\n123      4.6   府中\n124      4.8   府中\n125      4.8   府中\n126      3.5   府中\n",
          "name": "stdout"
        }
      ]
    },
    {
      "metadata": {
        "trusted": true
      },
      "cell_type": "code",
      "source": "# Barlett検定\nbartlett.test(formula=df$'平均気温'~df$'群')",
      "execution_count": 5,
      "outputs": [
        {
          "output_type": "display_data",
          "data": {
            "text/plain": "\n\tBartlett test of homogeneity of variances\n\ndata:  df$平均気温 by df$群\nBartlett's K-squared = 0.0092943, df = 2, p-value = 0.9954\n"
          },
          "metadata": {}
        }
      ]
    },
    {
      "metadata": {
        "trusted": true
      },
      "cell_type": "code",
      "source": "result_aov <- aov(formula=df$'平均気温'~df$'群')\nsummary(result_aov)",
      "execution_count": 8,
      "outputs": [
        {
          "output_type": "display_data",
          "data": {
            "text/plain": "             Df Sum Sq Mean Sq F value   Pr(>F)    \ndf$群         2   39.0  19.502   15.76 8.07e-07 ***\nResiduals   123  152.2   1.238                     \n---\nSignif. codes:  0 ‘***’ 0.001 ‘**’ 0.01 ‘*’ 0.05 ‘.’ 0.1 ‘ ’ 1"
          },
          "metadata": {}
        }
      ]
    },
    {
      "metadata": {
        "trusted": true
      },
      "cell_type": "code",
      "source": "TukeyHSD(result_aov)",
      "execution_count": 15,
      "outputs": [
        {
          "output_type": "display_data",
          "data": {
            "text/plain": "  Tukey multiple comparisons of means\n    95% family-wise confidence level\n\nFit: aov(formula = df$平均気温 ~ df$群)\n\n$`df$群`\n                  diff        lwr        upr     p adj\n府中-八王子  1.0095238  0.4336054  1.5854422 0.0001752\n青梅-八王子 -0.2880952 -0.8640137  0.2878232 0.4632930\n青梅-府中   -1.2976190 -1.8735375 -0.7217006 0.0000013\n"
          },
          "metadata": {}
        }
      ]
    },
    {
      "metadata": {
        "trusted": true
      },
      "cell_type": "code",
      "source": "",
      "execution_count": null,
      "outputs": []
    }
  ],
  "metadata": {
    "kernelspec": {
      "name": "r",
      "display_name": "R",
      "language": "R"
    },
    "language_info": {
      "mimetype": "text/x-r-source",
      "name": "R",
      "pygments_lexer": "r",
      "version": "3.5.3",
      "file_extension": ".r",
      "codemirror_mode": "r"
    }
  },
  "nbformat": 4,
  "nbformat_minor": 2
}