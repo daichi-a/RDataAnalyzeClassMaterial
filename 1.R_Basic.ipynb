{
  "cells": [
    {
      "metadata": {
        "trusted": true
      },
      "cell_type": "code",
      "source": "# 変数\na <- 5 # 変数に代入．宣言は必要ない．\nb <- 8\na + b # 最後に実行したものが表示される．\n\n# の後にスペース一つ開けて文字を書き始めるとコメント",
      "execution_count": null,
      "outputs": []
    },
    {
      "metadata": {
        "trusted": true
      },
      "cell_type": "code",
      "source": "c <- b - a \nc\n# 変数の名前を書くと実行したことになって表示される\n# (半分関数型言語のため，なんかの指揮を実行した時には必ず値が返る)",
      "execution_count": 3,
      "outputs": [
        {
          "output_type": "display_data",
          "data": {
            "text/plain": "[1] 3",
            "text/latex": "3",
            "text/markdown": "3",
            "text/html": "3"
          },
          "metadata": {}
        }
      ]
    },
    {
      "metadata": {
        "trusted": true
      },
      "cell_type": "code",
      "source": "# print関数を使っても良い\n# printを使うと，多次元配列の時何行目のprintなのかも表示してくれる\nprint(c)\n# 上記はスカラ値で，1番目の要素のみなので,数字の前に[1]と出力される",
      "execution_count": 4,
      "outputs": [
        {
          "output_type": "stream",
          "text": "[1] 3\n",
          "name": "stdout"
        }
      ]
    },
    {
      "metadata": {
        "trusted": true
      },
      "cell_type": "code",
      "source": "# 他のプログラミング言語との大きな違いは，「.」が，\n# 「オブジェクトインスタンスやクラスの中の要素」を表すのではなく，\n# 普通の変数名に使える文字として使えること\ny.a <- 3\ny.b <- 4\nprint(y.a + y.b)\n# 上記は「yというオブジェクトインスタンスの中のaオブジェクト」ではなく\n# 「y.aという変数名」として扱われる\n# 普通のプログラミング言語では，単語をつないだ変数名の場合，\n# キャメルバック（ラクダの背中）形式:  sumOfThisArray のように，最初以外の単語の頭文字を大きくする\n# アンダースコアで繋ぐ: sum_of_this_array\n# の方法があるが，Rの場合はアンダースコアで繋ぐ形式を「.」に置き換えたもの，と言うことができる",
      "execution_count": 5,
      "outputs": [
        {
          "output_type": "stream",
          "text": "[1] 7\n",
          "name": "stdout"
        }
      ]
    },
    {
      "metadata": {
        "trusted": true
      },
      "cell_type": "code",
      "source": "# Rはpythonと同じくfor文のif文のブロックスコープを持たない\n\nfor (i in 1:10) {\n  if (i == 1) {\n    x <- i\n  } else {\n    x <- x + i\n  }\n}\n\n# xという変数は，上のfor文のブロック内で初めて出てきた変数なので\n# 普通の感覚から言うとfor文ブロックの実行が終わった後には破棄されるが，\nprint(x)\n# ブロックの外からでもアクセスできる\n# 関数ブロックスコープはある\n\n# その代わりに，環境というオブジェクトのようなものがあり，そこに変数をくっつけることで，同じ名前の変数を増やすことができる",
      "execution_count": 6,
      "outputs": [
        {
          "output_type": "stream",
          "text": "[1] 55\n",
          "name": "stdout"
        }
      ]
    },
    {
      "metadata": {
        "trusted": true
      },
      "cell_type": "code",
      "source": "# インデックス\n# 普通のプログラミング言語のインデックスは0から始まるが，Rは1からが原則\n# 例えばfor文は\nfor (i in 1:10){\n    print(i)\n}\n\n# となり，1から10までの値が出る\n# 範囲指定でコロン「:」を使っていることに注意\n# x:yという範囲指定の時 x以上，y以下の値が出る\n# 10:1だと，10以下，1以上",
      "execution_count": 7,
      "outputs": [
        {
          "output_type": "stream",
          "text": "[1] 1\n[1] 2\n[1] 3\n[1] 4\n[1] 5\n[1] 6\n[1] 7\n[1] 8\n[1] 9\n[1] 10\n",
          "name": "stdout"
        }
      ]
    },
    {
      "metadata": {
        "trusted": true
      },
      "cell_type": "code",
      "source": "# 配列 array\n# 固定長配列でpythonでいう所のnumpy配列\n# 1次元配列\n# Rでは1次元配列はVector, ベクトルと呼ぶことが多い\n# 例えば10要素を全部0.0で初期化したければ，\nx <- array(0.0, dim=c(10))\nprint(x)\n# と書く\n# c(おそらくcolumnの略)関数に注意\n# 1行目しかないので，printでは配列の前に[1]が表示される",
      "execution_count": 8,
      "outputs": [
        {
          "output_type": "stream",
          "text": " [1] 0 0 0 0 0 0 0 0 0 0\n",
          "name": "stdout"
        }
      ]
    },
    {
      "metadata": {
        "trusted": true
      },
      "cell_type": "code",
      "source": "x <- array(1:10, dim=c(10))\nprint(x)\n# 上記は，次元が1次元で10要素ある配列を作り，1~10まで順に入れていけ，という配列の作り方．",
      "execution_count": 9,
      "outputs": [
        {
          "output_type": "stream",
          "text": " [1]  1  2  3  4  5  6  7  8  9 10\n",
          "name": "stdout"
        }
      ]
    },
    {
      "metadata": {
        "trusted": true
      },
      "cell_type": "code",
      "source": "# 前述のインデックスでわかる通り，配列のインデックスは1〜なので\n\nx <- array(10:1, dim=c(10))\nprint(x[1])\n# は配列xの「先頭の次」の要素ではなく，「先頭の要素」を指す",
      "execution_count": 10,
      "outputs": [
        {
          "output_type": "stream",
          "text": "[1] 10\n",
          "name": "stdout"
        }
      ]
    },
    {
      "metadata": {
        "trusted": true
      },
      "cell_type": "code",
      "source": "# 配列の連結\n# c関数で結合できる\n# c関数は非破壊的\nx <- array(3:1, dim=c(3))\ny <- array(6:4, dim=c(3))\nw <- c(x, y)\nprint(w)",
      "execution_count": 11,
      "outputs": [
        {
          "output_type": "stream",
          "text": "[1] 3 2 1 6 5 4\n",
          "name": "stdout"
        }
      ]
    },
    {
      "metadata": {
        "trusted": true
      },
      "cell_type": "code",
      "source": "# 配列の要素の置き換え\n# replace関数．やはり非破壊的\nx <- array(3:1, dim=c(3))\ny <- replace(x, 2, 4) # 配列xの2番目の要素を，4で置き換える\nprint(y)",
      "execution_count": 12,
      "outputs": [
        {
          "output_type": "stream",
          "text": "[1] 3 4 1\n",
          "name": "stdout"
        }
      ]
    },
    {
      "metadata": {
        "trusted": true
      },
      "cell_type": "code",
      "source": "# replaceはまとめて指定することができる\n# 1番目と3番目の要素をそれぞれ5と7で置き換えるという処理の場合\nx <- array(1:3, dim=c(3))\ny <- replace(x, c(1, 3), c(5, 6))\nprint(y)",
      "execution_count": 13,
      "outputs": [
        {
          "output_type": "stream",
          "text": "[1] 5 2 6\n",
          "name": "stdout"
        }
      ]
    },
    {
      "metadata": {
        "trusted": true
      },
      "cell_type": "code",
      "source": "# 2次元配列\nx <- array(1:6, dim=c(3, 2))\nprint(x)\n# は3行2列の配列になる\n# ここにきて，行と列があるので，print関数で出力される何番目の行か，何番目の列かがうまく機能するようになる",
      "execution_count": 14,
      "outputs": [
        {
          "output_type": "stream",
          "text": "     [,1] [,2]\n[1,]    1    4\n[2,]    2    5\n[3,]    3    6\n",
          "name": "stdout"
        }
      ]
    },
    {
      "metadata": {
        "trusted": true
      },
      "cell_type": "code",
      "source": "x <- matrix(1:6, nrow=3, ncol=2)\nprint(x)",
      "execution_count": 6,
      "outputs": [
        {
          "output_type": "stream",
          "text": "     [,1] [,2]\n[1,]    1    4\n[2,]    2    5\n[3,]    3    6\n",
          "name": "stdout"
        }
      ]
    },
    {
      "metadata": {
        "trusted": true
      },
      "cell_type": "code",
      "source": "x <- matrix(1:6, nrow=3, ncol=2)\nprint(x)\n\nprint(x[2, ]) # 2行目を丸ごと\nprint(x[, 2]) # 2列目を丸ごと\n\nprint(x[1, 2]) # 1行目2列目の要素\nprint(x[c(1,2), 2]) # 1,2 行目2列目の要素\n\nprint(x[c(1,3), c(1:2)]) # 1,3行目の1から2列目の要素",
      "execution_count": 8,
      "outputs": [
        {
          "output_type": "stream",
          "text": "     [,1] [,2]\n[1,]    1    4\n[2,]    2    5\n[3,]    3    6\n[1] 2 5\n[1] 4 5 6\n[1] 4\n[1] 4 5\n     [,1] [,2]\n[1,]    1    4\n[2,]    3    6\n",
          "name": "stdout"
        }
      ]
    },
    {
      "metadata": {
        "trusted": true
      },
      "cell_type": "code",
      "source": "x <- matrix(1:6, nrow=3, ncol=2)\ny <- matrix(7:12, nrow=3, ncol=2)\n\nw = rbind(x, y) # 縦に結合\nz = cbind(x, y) # 横に結合\n\nprint(w)\nprint(z)",
      "execution_count": 9,
      "outputs": [
        {
          "output_type": "stream",
          "text": "     [,1] [,2]\n[1,]    1    4\n[2,]    2    5\n[3,]    3    6\n[4,]    7   10\n[5,]    8   11\n[6,]    9   12\n     [,1] [,2] [,3] [,4]\n[1,]    1    4    7   10\n[2,]    2    5    8   11\n[3,]    3    6    9   12\n",
          "name": "stdout"
        }
      ]
    },
    {
      "metadata": {
        "trusted": true
      },
      "cell_type": "code",
      "source": "# C言語の配列やpythonのnumpy配列と同じく，最初に次元を定める必要があるので，\n# insertなんかはない様子",
      "execution_count": 3,
      "outputs": []
    },
    {
      "metadata": {
        "trusted": true
      },
      "cell_type": "code",
      "source": "# 配列list\n# arrayは整数なら整数，実数なら実数というデータ型が決まっているが，\n# listはなんでも入れられるため，複数のデータ型をまとめるデータ型という基準で作られている\n# C言語の構造体に近い？\nx <- list(8, array(1:4, dim=c(2, 2)), \"文字列\")\nprint(x)",
      "execution_count": 5,
      "outputs": [
        {
          "output_type": "stream",
          "text": "[[1]]\n[1] 8\n\n[[2]]\n     [,1] [,2]\n[1,]    1    3\n[2,]    2    4\n\n[[3]]\n[1] \"文字列\"\n\n",
          "name": "stdout"
        }
      ]
    },
    {
      "metadata": {
        "trusted": true
      },
      "cell_type": "code",
      "source": "# 制御構造\n# if文\n# if文の中で普通に==，!=，>=，>などの通常の比較演算子を使うことができる．\n# elseの前は改行してはいけないという規則がある\na <- 3\nif (a == 1){\n    print('aはいち！')\n}else if (a < 2){\n    print('aは2より小さい')\n} else if(a < 2){\n    print('aは3より小さい')\n} else　{\n    print('それ以外')\n}",
      "execution_count": 16,
      "outputs": [
        {
          "output_type": "stream",
          "text": "[1] \"それ以外\"\n",
          "name": "stdout"
        }
      ]
    },
    {
      "metadata": {
        "trusted": true
      },
      "cell_type": "code",
      "source": "# if文の論理積と論理和はそれぞれ &&と||\na <- 2\nb <- 4\n(a < 3) && (a >1)  #TRUEが返る　BooleanはTRUEとFALSE",
      "execution_count": 17,
      "outputs": [
        {
          "output_type": "display_data",
          "data": {
            "text/plain": "[1] TRUE",
            "text/latex": "TRUE",
            "text/markdown": "TRUE",
            "text/html": "TRUE"
          },
          "metadata": {}
        }
      ]
    },
    {
      "metadata": {
        "trusted": true
      },
      "cell_type": "code",
      "source": "# switch文\n# Rにはpythonと違いちゃんとswitch文がある\n# ただし構文が非常に特殊\n# 'マッチ文' = 処理式\n# になる\na <- 3\nswitch(a,\n       '1' = print('いち！'),\n       '2' = print('に！'),\n      '3'=print('さん！'),\n       print('それ以外！')\n      )\n# 上記のように整数にマッチさせる時でもシングルクォーテーションかダブルクォーテーションで囲む必要がある",
      "execution_count": 18,
      "outputs": [
        {
          "output_type": "stream",
          "text": "[1] \"さん！\"\n",
          "name": "stdout"
        }
      ]
    },
    {
      "metadata": {
        "trusted": true
      },
      "cell_type": "code",
      "source": "# 関数の定義\n#  funcという変数に，引数xを二乗して返す関数オブジェクトを生成して入れている\nfunc <- function(x){ \n    ans <- x ** 2\n    return(ans) # returnはキーワードではなく関数であることに注意\n}\n\n# 関数オブジェクトの呼び出し\na <- func(4)\nprint(a)",
      "execution_count": 1,
      "outputs": [
        {
          "output_type": "stream",
          "text": "[1] 16\n",
          "name": "stdout"
        }
      ]
    },
    {
      "metadata": {
        "trusted": true
      },
      "cell_type": "code",
      "source": "",
      "execution_count": null,
      "outputs": []
    }
  ],
  "metadata": {
    "kernelspec": {
      "name": "r",
      "display_name": "R",
      "language": "R"
    },
    "language_info": {
      "mimetype": "text/x-r-source",
      "name": "R",
      "pygments_lexer": "r",
      "version": "3.5.3",
      "file_extension": ".r",
      "codemirror_mode": "r"
    }
  },
  "nbformat": 4,
  "nbformat_minor": 2
}